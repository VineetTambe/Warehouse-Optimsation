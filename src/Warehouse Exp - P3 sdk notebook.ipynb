{
    "cells": [
        {
            "cell_type": "markdown",
            "metadata": {},
            "source": "### IBM AutoAI-SDK Auto-Generated Notebook v1.12.4\n\n**Note:** Notebook code generated using AutoAI will execute successfully. If code is modified or reordered,   \nthere is no guarantee it will successfully execute. This pipeline is optimized for the original dataset.  \nThe pipeline may fail or produce sub-optimium results if used with different data. For different data,  \nplease consider returning to AutoAI Experiments to generate a new pipeline. Please read our documentation   \nfor more information:   \n<a href=\"https://dataplatform.cloud.ibm.com/docs/content/wsj/analyze-data/autoai-notebook.html\">Cloud Platform</a>  \n\n\nBefore modifying the pipeline or trying to re-fit the pipeline, consider:   \nThe notebook converts dataframes to numpy arrays before fitting the pipeline   \n(a current restriction of the preprocessor pipeline). The known_values_list is passed by reference   \nand populated with categorical values during fit of the preprocessing pipeline. Delete its members before re-fitting."
        },
        {
            "cell_type": "markdown",
            "metadata": {},
            "source": "<a id=\"content\"></a>\n## Notebook content\n\nThis notebook contains steps and code to demonstrate AutoAI pipeline. This notebook introduces commands for getting data,  \npipeline model, model inspection and testing.\n\nSome familiarity with Python is helpful. This notebook uses Python 3."
        },
        {
            "cell_type": "markdown",
            "metadata": {
                "pycharm": {
                    "name": "#%% md\n"
                }
            },
            "source": "## Notebook goals\n\n-  inspection of trained pipeline via graphical vizualization and source code preview\n-  pipeline evaluation\n-  pipeline deployment and webservice scoring.\n\n## Contents\n\nThis notebook contains the following parts:\n\n1.\t[Setup](#setup)         \n    a.  [AutoAI experiment metadata](#variables_definition)      \n2.\t[Pipeline inspection](#inspection)      \n    a.  [Get historical optimizer instance](#get_hist_and_train)      \n    b.  [Get pipeline model](#get_pipeline)      \n    c.  [Preview pipeline model as python code](#preview_model_to_python_code)      \n    d.  [Visualize pipeline model](#visualize_pipeline)      \n    e.  [Read training and holdout data](#train_holdout_read)        \n    f.  [Test pipeline model locally](#test_model)       \n3.\t[Pipeline refinery and testing (optional)](#refinery)\n    a.  [Pipeline definition source code](#pipeline_definition)      \n    b.  [Lale library](#lale_library)      \n4.\t[Deploy and score](#scoring)       \n    a.  [Insert WML credentials](#wml_credentials)   \n    b.  [Create deployment](#deployment)      \n    c.  [Score webservice](#online_scoring)        \n    d.  [Delete deployment](#delete_deployment)       \n5.  [Authors](#authors)      "
        },
        {
            "cell_type": "markdown",
            "metadata": {},
            "source": "<a id=\"setup\"></a>\n# Setup\n\nBefore you use the sample code in this notebook, you must perform the following setup tasks:\n - `watson-machine-learning-client` uninstallation of the old client\n - `watson-machine-learning-client-V4` installation\n - `autoai-libs` installation/upgrade\n - `lightgbm` or `xgboost` installation/downgrade if they are needed"
        },
        {
            "cell_type": "code",
            "execution_count": null,
            "metadata": {
                "pycharm": {
                    "name": "#%%\n"
                }
            },
            "outputs": [],
            "source": "!pip uninstall watson-machine-learning-client -y"
        },
        {
            "cell_type": "code",
            "execution_count": null,
            "metadata": {
                "pycharm": {
                    "is_executing": false,
                    "name": "#%%\n"
                }
            },
            "outputs": [],
            "source": "!pip install -U watson-machine-learning-client-V4"
        },
        {
            "cell_type": "code",
            "execution_count": null,
            "metadata": {
                "pycharm": {
                    "name": "#%%\n"
                }
            },
            "outputs": [],
            "source": "!pip install -U autoai-libs"
        },
        {
            "cell_type": "markdown",
            "metadata": {},
            "source": "<a id=\"variables_definition\"></a>\n### AutoAI experiment metadata\n\nThis cell defines COS credentials required to retrieve AutoAI pipeline."
        },
        {
            "cell_type": "code",
            "execution_count": null,
            "metadata": {
                "pycharm": {
                    "name": "#%%\n"
                }
            },
            "outputs": [],
            "source": "# The code was removed by Watson Studio for sharing."
        },
        {
            "cell_type": "markdown",
            "metadata": {},
            "source": "Following cell contains input parameters provided to run the AutoAI experiment in Watson Studio"
        },
        {
            "cell_type": "code",
            "execution_count": null,
            "metadata": {
                "pycharm": {
                    "name": "#%%\n"
                }
            },
            "outputs": [],
            "source": "experiment_metadata = dict(\n   prediction_type='regression',\n   prediction_column='num_orders',\n   test_size=0.1,\n   scoring='neg_root_mean_squared_error',\n   csv_separator=',',\n   excel_sheet=0,\n   max_number_of_estimators=2,\n   training_data_reference = training_data_reference,\n   training_result_reference = training_result_reference)\n\npipeline_name='Pipeline_3'"
        },
        {
            "cell_type": "markdown",
            "metadata": {
                "pycharm": {
                    "name": "#%% md\n"
                }
            },
            "source": "<a id=\"inspection\"></a>\n## Pipeline inspection\nIn this section you will get the trained pipeline model from the AutoAI experiment and inspect it.  \nYou will see pipeline as a pythone code, graphically visualized and at the end, you will perform a local test.\n"
        },
        {
            "cell_type": "markdown",
            "metadata": {
                "pycharm": {
                    "name": "#%% md\n"
                }
            },
            "source": "<a id=\"get_hist_and_train\"></a>\n### Get historical optimizer instance\n\nThe next cell contains code for retrieving fitted optimizer."
        },
        {
            "cell_type": "code",
            "execution_count": null,
            "metadata": {
                "pycharm": {
                    "is_executing": false,
                    "name": "#%%\n"
                }
            },
            "outputs": [],
            "source": "from watson_machine_learning_client.experiment import AutoAI\n\noptimizer = AutoAI().runs.get_optimizer(metadata=experiment_metadata)"
        },
        {
            "cell_type": "markdown",
            "metadata": {
                "pycharm": {
                    "name": "#%% md\n"
                }
            },
            "source": "<a id=\"get_pipeline\"></a>\n### Get pipeline model\n\nThe following cell loads selected AutoAI pipeline model. If you want to get pure scikit-learn pipeline specify `as_type='sklearn'` parameter. By default enriched scikit-learn pipeline is returned `as_type='lale'`."
        },
        {
            "cell_type": "code",
            "execution_count": null,
            "metadata": {
                "pycharm": {
                    "is_executing": false,
                    "name": "#%%\n"
                }
            },
            "outputs": [],
            "source": "pipeline_model = optimizer.get_pipeline(pipeline_name=pipeline_name)"
        },
        {
            "cell_type": "markdown",
            "metadata": {
                "pycharm": {
                    "name": "#%% md\n"
                }
            },
            "source": "<a id=\"preview_model_to_python_code\"></a>\n### Preview pipeline model as python code\nIn the next cell, downloaded pipeline model could be previewed as a python code.  \nYou will be able to see what exact steps are involved in model creation."
        },
        {
            "cell_type": "code",
            "execution_count": null,
            "metadata": {
                "pycharm": {
                    "name": "#%%\n"
                }
            },
            "outputs": [],
            "source": "pipeline_model.pretty_print(combinators=False, ipython_display=True)"
        },
        {
            "cell_type": "markdown",
            "metadata": {
                "pycharm": {
                    "name": "#%% md\n"
                }
            },
            "source": "<a id=\"visualize_pipeline\"></a>\n### Visualize pipeline model\n\nPreview pipeline model stages as graph. Each node's name links to detailed description of the stage.\n"
        },
        {
            "cell_type": "code",
            "execution_count": null,
            "metadata": {
                "pycharm": {
                    "is_executing": false,
                    "name": "#%%\n"
                }
            },
            "outputs": [],
            "source": "pipeline_model.visualize()"
        },
        {
            "cell_type": "markdown",
            "metadata": {
                "pycharm": {
                    "name": "#%% md\n"
                }
            },
            "source": "<a id=\"train_holdout_read\"></a>\n### Read training and holdout data\n\nRetrieve training dataset from AutoAI experiment as pandas DataFrame."
        },
        {
            "cell_type": "code",
            "execution_count": null,
            "metadata": {
                "pycharm": {
                    "name": "#%%\n"
                }
            },
            "outputs": [],
            "source": "training_df, holdout_df = optimizer.get_data_connections()[0].read(with_holdout_split=True)\n\ntrain_X = training_df.drop([experiment_metadata['prediction_column']], axis=1).values\ntrain_y = training_df[experiment_metadata['prediction_column']].values\n\ntest_X = holdout_df.drop([experiment_metadata['prediction_column']], axis=1).values\ny_true = holdout_df[experiment_metadata['prediction_column']].values"
        },
        {
            "cell_type": "markdown",
            "metadata": {
                "pycharm": {
                    "name": "#%% md\n"
                }
            },
            "source": "<a id=\"test_model\"></a>\n### Test pipeline model locally\n**Note**: you can chose the metric to evaluate the model by your own, this example contains only a basic scenario."
        },
        {
            "cell_type": "code",
            "execution_count": null,
            "metadata": {
                "pycharm": {
                    "name": "#%%\n"
                }
            },
            "outputs": [],
            "source": "from sklearn.metrics import r2_score\n\npredictions = pipeline_model.predict(test_X)\nscore = r2_score(y_true=y_true, y_pred=predictions)\nprint('r2_score: ', score)"
        },
        {
            "cell_type": "markdown",
            "metadata": {
                "pycharm": {
                    "name": "#%% md\n"
                }
            },
            "source": "<a id=\"refinery\"></a>\n## Pipeline refinery and testing (optional)\n\nIn this section you will learn how to refine and retrain the best pipeline returned by AutoAI.\nIt can be performed by:\n - modifying pipeline definition source code\n - using [lale](https://lale.readthedocs.io/en/latest/) library for semi-automated data science\n\n**Note**: In order to run this section change following cells to 'code' cell."
        },
        {
            "cell_type": "markdown",
            "metadata": {},
            "source": "<a id=\"pipeline_definition\"></a>\n### Pipeline definition source code\nFollowing cell lets you experiment with pipeline definition in python, e.g. change steps parameters.\n\nIt will inject pipeline definition to the next cell."
        },
        {
            "cell_type": "raw",
            "metadata": {
                "pycharm": {
                    "name": "#%%\n"
                }
            },
            "source": "pipeline_model.pretty_print(combinators=False, ipython_display='input')"
        },
        {
            "cell_type": "markdown",
            "metadata": {
                "pycharm": {
                    "name": "#%% md\n"
                }
            },
            "source": "<a id=\"lale_library\"></a>\n### Lale library\n\n**Note**: This is only an exemplary usage of lale package. You can import more different estimators to refine downloaded pipeline model."
        },
        {
            "cell_type": "markdown",
            "metadata": {},
            "source": "#### Import estimators"
        },
        {
            "cell_type": "raw",
            "metadata": {
                "pycharm": {
                    "is_executing": false,
                    "name": "#%%\n"
                }
            },
            "source": "from sklearn.linear_model import LinearRegression as E1\nfrom sklearn.tree import DecisionTreeRegressor as E2\nfrom sklearn.neighbors import KNeighborsRegressor as E3\nfrom lale.lib.lale import Hyperopt\nfrom lale.operators import TrainedPipeline\nfrom lale import wrap_imported_operators\nfrom lale.helpers import import_from_sklearn_pipeline\nwrap_imported_operators()"
        },
        {
            "cell_type": "markdown",
            "metadata": {
                "pycharm": {
                    "name": "#%% md\n"
                }
            },
            "source": "<a id=\"decomposition_definition\"></a>\n#### Pipeline decomposition and new definition\nIn this step the last stage from pipeline is removed."
        },
        {
            "cell_type": "raw",
            "metadata": {
                "pycharm": {
                    "name": "#%%\n"
                }
            },
            "source": "prefix = pipeline_model.remove_last().freeze_trainable()\nprefix.visualize()"
        },
        {
            "cell_type": "raw",
            "metadata": {
                "pycharm": {
                    "is_executing": false,
                    "name": "#%%\n"
                }
            },
            "source": "new_pipeline = prefix >> (E1 | E2 | E3)\nnew_pipeline.visualize()"
        },
        {
            "cell_type": "markdown",
            "metadata": {
                "pycharm": {
                    "name": "#%% md\n"
                }
            },
            "source": "<a id=\"new_optimizer\"></a>\n#### New optimizer `hyperopt` configuration and training\n\nThis section can introduce other results than the original one and it should be used\nby more advanced users.\n\nNew pipeline is re-trained by passing train data to it and calling `fit` method."
        },
        {
            "cell_type": "raw",
            "metadata": {
                "pycharm": {
                    "name": "#%%\n"
                }
            },
            "source": "hyperopt = Hyperopt(estimator=new_pipeline, cv=3, max_evals=20, scoring='r2')\nfitted_hyperopt = hyperopt.fit(train_X, train_y)"
        },
        {
            "cell_type": "raw",
            "metadata": {
                "pycharm": {
                    "name": "#%%\n"
                }
            },
            "source": "hyperopt_pipeline = fitted_hyperopt.get_pipeline()\nnew_pipeline = hyperopt_pipeline.export_to_sklearn_pipeline()"
        },
        {
            "cell_type": "raw",
            "metadata": {
                "pycharm": {
                    "name": "#%%\n"
                }
            },
            "source": "predictions = new_pipeline.predict(train_X)"
        },
        {
            "cell_type": "raw",
            "metadata": {
                "pycharm": {
                    "name": "#%%\n"
                }
            },
            "source": "predictions = new_pipeline.predict(test_X)\nrefined_score = r2_score(y_true=y_true, y_pred=predictions)\nprint('r2_score: ', score)\nprint('refined_r2_score: ', refined_score)"
        },
        {
            "cell_type": "markdown",
            "metadata": {
                "pycharm": {
                    "name": "#%% md\n"
                }
            },
            "source": "<a id=\"scoring\"></a>\n## Deploy and Score\n\nIn this section you will learn how to deploy and score pipeline model as webservice using WML instance."
        },
        {
            "cell_type": "markdown",
            "metadata": {},
            "source": "<a id=\"wml_credentials\"></a>\n### Connect to WML client in order to create deployment\n**Action:** Next you will need credentials for Watson Machine Learning and training run_id:\n - go to [Cloud catalog resources list](https://cloud.ibm.com/resources)\n - click on Services and chose Machine Learning service. Once you are there\n - click the **Service Credentials** link on the left side of the screen\n - click to expand specific credentials name.\n - copy and paste your WML credentials into the cell below\n\n*Take in mind that WML Service instance should be the same as used to generate this notebook.*"
        },
        {
            "cell_type": "code",
            "execution_count": null,
            "metadata": {
                "pycharm": {
                    "name": "#%%\n"
                }
            },
            "outputs": [],
            "source": "wml_credentials = {\n  \"apikey\": \"\",\n  \"iam_apikey_description\": \"\",\n  \"iam_apikey_name\": \"\",\n  \"iam_role_crn\": \"r\",\n  \"iam_serviceid_crn\": \"\",\n  \"instance_id\": \"\",\n  \"url\": \"\"\n}"
        },
        {
            "cell_type": "markdown",
            "metadata": {},
            "source": "<a id=\"deployment\"></a>\n### Create deployment\n\n**Action**: If you want to deploy refined pipeline please change the `pipeline_model` to `new_pipeline`.\n \nIf you prefer you can also change the `deployment_name`."
        },
        {
            "cell_type": "code",
            "execution_count": null,
            "metadata": {
                "pycharm": {
                    "name": "#%%\n"
                }
            },
            "outputs": [],
            "source": "from watson_machine_learning_client.deployment import WebService\n\nservice = WebService(wml_credentials)\n\nservice.create(\n    model=pipeline_model,\n    metadata=experiment_metadata,\n    deployment_name=f'{pipeline_name}_webservice'\n)"
        },
        {
            "cell_type": "markdown",
            "metadata": {},
            "source": "Deployment object could be printed to show basic information:"
        },
        {
            "cell_type": "code",
            "execution_count": null,
            "metadata": {
                "pycharm": {
                    "name": "#%%\n"
                }
            },
            "outputs": [],
            "source": "print(service)"
        },
        {
            "cell_type": "markdown",
            "metadata": {},
            "source": "To be able to show all available information about deployment use `.get_params()` method:"
        },
        {
            "cell_type": "code",
            "execution_count": null,
            "metadata": {
                "pycharm": {
                    "name": "#%%\n"
                }
            },
            "outputs": [],
            "source": "service.get_params()"
        },
        {
            "cell_type": "markdown",
            "metadata": {
                "pycharm": {
                    "name": "#%% md\n"
                }
            },
            "source": "<a id=\"online_scoring\"></a>\n### Score webservice\nYou can make scoring request by calling `score()` on deployed pipeline."
        },
        {
            "cell_type": "code",
            "execution_count": null,
            "metadata": {
                "pycharm": {
                    "name": "#%%\n"
                }
            },
            "outputs": [],
            "source": "predictions = service.score(payload=holdout_df.drop([experiment_metadata['prediction_column']], axis=1).iloc[:10])\npredictions"
        },
        {
            "cell_type": "markdown",
            "metadata": {},
            "source": "If you want to work with the webservice in external Python application you can retrieve the service object by:\n - initialize service by `service = WebService(wml_credentials)`\n - get deployment_id by `service.list()` method\n - get webservice object by `service.get('deployment_id')` method\n\nAfter that you can call `service.score()` method."
        },
        {
            "cell_type": "markdown",
            "metadata": {
                "pycharm": {
                    "name": "#%% md\n"
                }
            },
            "source": "<a id=\"delete_deployment\"></a>\n### Delete deployment\n\nYou can delete an existing deployment by calling `service.delete()`."
        }
    ],
    "metadata": {
        "kernelspec": {
            "display_name": "Python 3.6",
            "language": "python",
            "name": "python3"
        },
        "language_info": {
            "codemirror_mode": {
                "name": "ipython",
                "version": 3
            },
            "file_extension": ".py",
            "mimetype": "text/x-python",
            "name": "python",
            "nbconvert_exporter": "python",
            "pygments_lexer": "ipython3",
            "version": "3.6.9"
        }
    },
    "nbformat": 4,
    "nbformat_minor": 2
}
